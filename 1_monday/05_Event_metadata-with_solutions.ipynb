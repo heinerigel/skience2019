{
 "cells": [
  {
   "cell_type": "markdown",
   "metadata": {},
   "source": [
    "<div style='background-image: url(\"../share/header_no_text.svg\") ; padding: 0px ; background-size: cover ; border-radius: 5px ; height: 250px'>\n",
    "    <div style=\"float: right ; margin: 50px ; padding: 20px ; background: rgba(255 , 255 , 255 , 0.7) ; width: 50% ; height: 150px\">\n",
    "        <div style=\"position: relative ; top: 50% ; transform: translatey(-50%)\">\n",
    "            <div style=\"font-size: xx-large ; font-weight: 900 ; color: rgba(0 , 0 , 0 , 0.8) ; line-height: 100%\">ObsPy Tutorial</div>\n",
    "            <div style=\"font-size: large ; padding-top: 20px ; color: rgba(0 , 0 , 0 , 0.5)\">Handling Event Metadata</div>\n",
    "        </div>\n",
    "    </div>\n",
    "</div>"
   ]
  },
  {
   "cell_type": "markdown",
   "metadata": {},
   "source": [
    "Seismo-Live: http://seismo-live.org\n",
    "\n",
    "##### Authors:\n",
    "* Lion Krischer ([@krischer](https://github.com/krischer))\n",
    "* Tobias Megies ([@megies](https://github.com/megies))\n",
    "---"
   ]
  },
  {
   "cell_type": "markdown",
   "metadata": {},
   "source": [
    "![](images/obspy_logo_full_524x179px.png)"
   ]
  },
  {
   "cell_type": "code",
   "execution_count": 1,
   "metadata": {},
   "outputs": [],
   "source": [
    "%matplotlib inline\n",
    "import matplotlib.pyplot as plt"
   ]
  },
  {
   "cell_type": "markdown",
   "metadata": {},
   "source": [
    "- for event metadata, the de-facto standard is [QuakeML (an xml document structure)](https://quake.ethz.ch/quakeml/)\n",
    "- QuakeML files can be read using **`read_events()`**"
   ]
  },
  {
   "cell_type": "code",
   "execution_count": 2,
   "metadata": {},
   "outputs": [
    {
     "name": "stdout",
     "output_type": "stream",
     "text": [
      "5 Event(s) in Catalog:\n",
      "2011-03-11T05:46:23.200000Z | +38.296, +142.498 | 9.1 MW\n",
      "2011-03-11T06:15:37.570000Z | +36.227, +141.088 | 7.9 MW\n",
      "2011-03-11T06:25:50.740000Z | +38.051, +144.630 | 7.6 MW\n",
      "2011-04-07T14:32:43.290000Z | +38.276, +141.588 | 7.1 MW\n",
      "2011-07-10T00:57:10.800000Z | +38.034, +143.264 | 7.0 MW\n"
     ]
    }
   ],
   "source": [
    "from obspy import read_events\n",
    "\n",
    "catalog = read_events(\"./data/event_tohoku_with_big_aftershocks.xml\")\n",
    "print(catalog)"
   ]
  },
  {
   "cell_type": "markdown",
   "metadata": {},
   "source": [
    "- **`read_events()`** function returns a **`Catalog`** object, which is\n",
    "a collection of **`Event`** objects."
   ]
  },
  {
   "cell_type": "code",
   "execution_count": 3,
   "metadata": {},
   "outputs": [
    {
     "name": "stdout",
     "output_type": "stream",
     "text": [
      "<class 'obspy.core.event.catalog.Catalog'>\n",
      "<class 'obspy.core.event.event.Event'>\n"
     ]
    }
   ],
   "source": [
    "print(type(catalog))\n",
    "print(type(catalog[0]))"
   ]
  },
  {
   "cell_type": "code",
   "execution_count": 4,
   "metadata": {},
   "outputs": [
    {
     "name": "stdout",
     "output_type": "stream",
     "text": [
      "Event:\t2011-03-11T05:46:23.200000Z | +38.296, +142.498 | 9.1 MW\n",
      "\n",
      "\t            resource_id: ResourceIdentifier(id=\"smi:service.iris.edu/fdsnws/event/1/query?eventid=3279407\")\n",
      "\t             event_type: 'earthquake'\n",
      "\t    preferred_origin_id: ResourceIdentifier(id=\"smi:service.iris.edu/fdsnws/event/1/query?originid=9933375\")\n",
      "\t preferred_magnitude_id: ResourceIdentifier(id=\"smi:service.iris.edu/fdsnws/event/1/query?magnitudeid=16642444\")\n",
      "\t                   ---------\n",
      "\t     event_descriptions: 1 Elements\n",
      "\t                origins: 1 Elements\n",
      "\t             magnitudes: 1 Elements\n"
     ]
    }
   ],
   "source": [
    "event = catalog[0]\n",
    "print(event)"
   ]
  },
  {
   "cell_type": "markdown",
   "metadata": {},
   "source": [
    "- Event objects are again collections of other resources.\n",
    "- the nested ObsPy Event class structure (Catalog/Event/Origin/Magnitude/FocalMechanism/...) is closely modelled after QuakeML\n",
    "<img src=\"images/Event.svg\" width=90%>"
   ]
  },
  {
   "cell_type": "code",
   "execution_count": 5,
   "metadata": {},
   "outputs": [
    {
     "name": "stdout",
     "output_type": "stream",
     "text": [
      "<class 'list'>\n",
      "<class 'obspy.core.event.origin.Origin'>\n",
      "Origin\n",
      "\t   resource_id: ResourceIdentifier(id=\"smi:service.iris.edu/fdsnws/event/1/query?originid=9933375\")\n",
      "\t          time: UTCDateTime(2011, 3, 11, 5, 46, 23, 200000)\n",
      "\t     longitude: 142.498\n",
      "\t      latitude: 38.2963\n",
      "\t         depth: 19700.0\n",
      "\t creation_info: CreationInfo(author='ISC')\n"
     ]
    }
   ],
   "source": [
    "print(type(event.origins))\n",
    "print(type(event.origins[0]))\n",
    "print(event.origins[0])"
   ]
  },
  {
   "cell_type": "code",
   "execution_count": 6,
   "metadata": {},
   "outputs": [
    {
     "name": "stdout",
     "output_type": "stream",
     "text": [
      "<class 'list'>\n",
      "<class 'obspy.core.event.magnitude.Magnitude'>\n",
      "Magnitude\n",
      "\t    resource_id: ResourceIdentifier(id=\"smi:service.iris.edu/fdsnws/event/1/query?magnitudeid=16642444\")\n",
      "\t            mag: 9.1\n",
      "\t magnitude_type: 'MW'\n",
      "\t      origin_id: ResourceIdentifier(id=\"smi:service.iris.edu/fdsnws/event/1/query?originid=9933383\")\n",
      "\t  creation_info: CreationInfo(author='GCMT')\n"
     ]
    }
   ],
   "source": [
    "print(type(event.magnitudes))\n",
    "print(type(event.magnitudes[0]))\n",
    "print(event.magnitudes[0])"
   ]
  },
  {
   "cell_type": "code",
   "execution_count": 7,
   "metadata": {},
   "outputs": [],
   "source": [
    "# try event.<Tab> to get an idea what \"children\" elements event has"
   ]
  },
  {
   "cell_type": "markdown",
   "metadata": {},
   "source": [
    "- The Catalog object contains some convenience methods to make\n",
    "working with events easier.\n",
    "- for example, the included events can be filtered with various keys."
   ]
  },
  {
   "cell_type": "code",
   "execution_count": 8,
   "metadata": {},
   "outputs": [
    {
     "name": "stdout",
     "output_type": "stream",
     "text": [
      "2 Event(s) in Catalog:\n",
      "2011-03-11T05:46:23.200000Z | +38.296, +142.498 | 9.1 MW\n",
      "2011-03-11T06:15:37.570000Z | +36.227, +141.088 | 7.9 MW\n"
     ]
    }
   ],
   "source": [
    "largest_magnitude_events = catalog.filter(\"magnitude >= 7.8\")\n",
    "print(largest_magnitude_events)"
   ]
  },
  {
   "cell_type": "markdown",
   "metadata": {},
   "source": [
    "- There is a basic preview plot using the matplotlib basemap module."
   ]
  },
  {
   "cell_type": "code",
   "execution_count": 9,
   "metadata": {},
   "outputs": [
    {
     "data": {
      "image/png": "[encoded data removed]",
      "text/plain": [
       "<matplotlib.figure.Figure at 0x1152550b8>"
      ]
     },
     "metadata": {
      "needs_background": "light"
     },
     "output_type": "display_data"
    }
   ],
   "source": [
    "catalog.plot(projection=\"local\");"
   ]
  },
  {
   "cell_type": "markdown",
   "metadata": {},
   "source": [
    "- a (modified) Catalog can be output to file (currently there is write support for QuakeML only)"
   ]
  },
  {
   "cell_type": "code",
   "execution_count": 10,
   "metadata": {},
   "outputs": [
    {
     "name": "stdout",
     "output_type": "stream",
     "text": [
      "-rw-r--r--  1 lion  wheel  3182 Feb 17 00:53 /tmp/large_events.xml\r\n"
     ]
    }
   ],
   "source": [
    "largest_magnitude_events.write(\"/tmp/large_events.xml\", format=\"QUAKEML\")\n",
    "!ls -l /tmp/large_events.xml"
   ]
  },
  {
   "cell_type": "markdown",
   "metadata": {},
   "source": [
    "- the event type classes can be used to build up Events/Catalogs/Picks/.. from scratch in custom processing work flows and to share them with other researchers in the de facto standard format QuakeML"
   ]
  },
  {
   "cell_type": "code",
   "execution_count": 11,
   "metadata": {},
   "outputs": [
    {
     "name": "stdout",
     "output_type": "stream",
     "text": [
      "1 Event(s) in Catalog:\n",
      "2014-02-23T18:00:00.000000Z | +47.600,  +12.000 | 7.2 Mw | manual\n",
      "<?xml version='1.0' encoding='utf-8'?>\r\n",
      "<q:quakeml xmlns:q=\"http://quakeml.org/xmlns/quakeml/1.2\" xmlns=\"http://quakeml.org/xmlns/bed/1.2\">\r\n",
      "  <eventParameters publicID=\"smi:local/df3b1812-d41b-40e5-a5e2-6dd475f54d44\">\r\n",
      "    <description>Just a fictitious toy example catalog built from scratch</description>\r\n",
      "    <event publicID=\"smi:local/b660d597-fce6-47f8-8892-b342f55e6409\">\r\n",
      "      <type>not existing</type>\r\n",
      "      <origin publicID=\"smi:local/266b668f-5ec7-41ae-b236-a76423ac4dbc\">\r\n",
      "        <time>\r\n",
      "          <value>2014-02-23T18:00:00.000000Z</value>\r\n",
      "        </time>\r\n",
      "        <latitude>\r\n",
      "          <value>47.6</value>\r\n",
      "        </latitude>\r\n",
      "        <longitude>\r\n",
      "          <value>12.0</value>\r\n",
      "        </longitude>\r\n",
      "        <depth>\r\n",
      "          <value>10000.0</value>\r\n",
      "        </depth>\r\n",
      "        <depthType>operator assigned</depthType>\r\n",
      "        <region>AUSTRIA</region>\r\n",
      "        <evaluationMode>manual</evaluationMode>\r\n",
      "        <evaluationStatus>preliminary</evaluationStatus>\r\n",
      "      </origin>\r\n",
      "      <magnitude publicID=\"smi:local/5faadde7-cfa2-4b55-98d7-b71e752d0a9a\">\r\n",
      "        <mag>\r\n",
      "          <value>7.2</value>\r\n",
      "        </mag>\r\n",
      "        <type>Mw</type>\r\n",
      "        <originID>smi:local/266b668f-5ec7-41ae-b236-a76423ac4dbc</originID>\r\n",
      "      </magnitude>\r\n",
      "      <magnitude publicID=\"smi:local/963b7881-f0e9-491b-91ed-006b5606792e\">\r\n",
      "        <mag>\r\n",
      "          <value>7.4</value>\r\n",
      "        </mag>\r\n",
      "        <type>Ms</type>\r\n",
      "        <originID>smi:local/266b668f-5ec7-41ae-b236-a76423ac4dbc</originID>\r\n",
      "      </magnitude>\r\n",
      "    </event>\r\n",
      "  </eventParameters>\r\n",
      "</q:quakeml>\r\n"
     ]
    }
   ],
   "source": [
    "from obspy import UTCDateTime\n",
    "from obspy.core.event import Catalog, Event, Origin, Magnitude\n",
    "from obspy.geodetics import FlinnEngdahl\n",
    "\n",
    "cat = Catalog()\n",
    "cat.description = \"Just a fictitious toy example catalog built from scratch\"\n",
    "\n",
    "e = Event()\n",
    "e.event_type = \"not existing\"\n",
    "\n",
    "o = Origin()\n",
    "o.time = UTCDateTime(2014, 2, 23, 18, 0, 0)\n",
    "o.latitude = 47.6\n",
    "o.longitude = 12.0\n",
    "o.depth = 10000\n",
    "o.depth_type = \"operator assigned\"\n",
    "o.evaluation_mode = \"manual\"\n",
    "o.evaluation_status = \"preliminary\"\n",
    "o.region = FlinnEngdahl().get_region(o.longitude, o.latitude)\n",
    "\n",
    "m = Magnitude()\n",
    "m.mag = 7.2\n",
    "m.magnitude_type = \"Mw\"\n",
    "\n",
    "m2 = Magnitude()\n",
    "m2.mag = 7.4\n",
    "m2.magnitude_type = \"Ms\"\n",
    "\n",
    "# also included could be: custom picks, amplitude measurements, station magnitudes,\n",
    "# focal mechanisms, moment tensors, ...\n",
    "\n",
    "# make associations, put everything together\n",
    "cat.append(e)\n",
    "e.origins = [o]\n",
    "e.magnitudes = [m, m2]\n",
    "m.origin_id = o.resource_id\n",
    "m2.origin_id = o.resource_id\n",
    "\n",
    "print(cat)\n",
    "cat.write(\"/tmp/my_custom_events.xml\", format=\"QUAKEML\")\n",
    "!cat /tmp/my_custom_events.xml"
   ]
  },
  {
   "cell_type": "code",
   "execution_count": null,
   "metadata": {},
   "outputs": [],
   "source": []
  }
 ],
 "metadata": {
  "kernelspec": {
   "display_name": "Python 3",
   "language": "python",
   "name": "python3"
  },
  "language_info": {
   "codemirror_mode": {
    "name": "ipython",
    "version": 3
   },
   "file_extension": ".py",
   "mimetype": "text/x-python",
   "name": "python",
   "nbconvert_exporter": "python",
   "pygments_lexer": "ipython3",
   "version": "3.6.7"
  }
 },
 "nbformat": 4,
 "nbformat_minor": 1
}
